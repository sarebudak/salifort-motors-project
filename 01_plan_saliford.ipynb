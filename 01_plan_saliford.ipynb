{
 "cells": [
  {
   "cell_type": "code",
   "execution_count": null,
   "id": "acde49a1-1780-4596-8aef-4e976307471d",
   "metadata": {},
   "outputs": [],
   "source": [
    "## şirketin durumu \n",
    "şirketin İK departmanı, çalışan memnuniyetini arttırmak istiyor. bu amaçla çalışanlardan veri topladılar. bende veri uzmanı olarak bu verilere dayanarak önerilerde bulunacağım \n",
    "TEMEL SORU : Çalışanların şirketten ayrılmasına neden olan etkenler neler?"
   ]
  },
  {
   "cell_type": "code",
   "execution_count": null,
   "id": "e361e0f1-e70f-456a-9ab9-4c57518d348e",
   "metadata": {},
   "outputs": [],
   "source": []
  },
  {
   "cell_type": "code",
   "execution_count": null,
   "id": "4b4ad2e6-9d00-44b7-a91f-44426bd31191",
   "metadata": {},
   "outputs": [],
   "source": []
  },
  {
   "cell_type": "markdown",
   "id": "73de2aea-68f1-429f-b16b-f56a92c9a062",
   "metadata": {},
   "source": [
    "## projenin hedefi İK tarafından toplanan verileri analiz ederek, bir çalışanın şirketten ayrılıp ayrılmayacağını tahmin edecek bir model oluşturmak. böylece çalışan kaybı azaltılabilir, yeni çalışan bulma sürecinin maliyeti kısaltılabilir."
   ]
  }
 ],
 "metadata": {
  "kernelspec": {
   "display_name": "Python [conda env:base] *",
   "language": "python",
   "name": "conda-base-py"
  },
  "language_info": {
   "codemirror_mode": {
    "name": "ipython",
    "version": 3
   },
   "file_extension": ".py",
   "mimetype": "text/x-python",
   "name": "python",
   "nbconvert_exporter": "python",
   "pygments_lexer": "ipython3",
   "version": "3.12.7"
  }
 },
 "nbformat": 4,
 "nbformat_minor": 5
}
